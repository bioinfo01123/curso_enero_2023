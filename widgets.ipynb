{
 "cells": [
  {
   "cell_type": "code",
   "execution_count": null,
   "id": "7580a5d4",
   "metadata": {},
   "outputs": [],
   "source": [
    "from IPython.core.display import display, HTML, Javascript\n",
    "display(HTML(\"<style>.container { width:85% !important; }</style>\"))"
   ]
  },
  {
   "cell_type": "code",
   "execution_count": null,
   "id": "acc5d481",
   "metadata": {},
   "outputs": [],
   "source": [
    "import pandas as pd\n",
    "from pandas import DataFrame\n",
    "import numpy as np\n",
    "import matplotlib.pyplot as plt"
   ]
  },
  {
   "cell_type": "code",
   "execution_count": null,
   "id": "784db22e",
   "metadata": {},
   "outputs": [],
   "source": [
    "Columnas = [0, 5, 7, 8, 10, 11, 13, 14, 16, 17, 19, 20, 22, 23, 25]\n",
    "Nombres = ['Entry', 'Kingdom', 'K_Score', 'Phylum', 'P_Score', 'Class', 'C_Score',\n",
    "'Order', 'O_Score', 'Family', 'F_Score', 'Genus', 'G_Score', 'Species', 'S_Score']\n",
    "column_scores = ['K_Score', 'P_Score', 'C_Score', 'O_Score', 'F_Score', 'G_Score', 'S_Score']\n",
    "category_names = ['Kingdom', 'Phylum', 'Class', 'Order', 'Family', 'Genus', 'Species','Entry']"
   ]
  },
  {
   "cell_type": "code",
   "execution_count": null,
   "id": "328d9ed8",
   "metadata": {},
   "outputs": [],
   "source": [
    "url3 = 'https://raw.githubusercontent.com/bioinfo01123/taller2022/main/ASV_vs_RDP_classif.txt'\n",
    "tax = pd.read_csv(url3, sep='\\t', header =None)"
   ]
  },
  {
   "cell_type": "code",
   "execution_count": null,
   "id": "9a3823ae",
   "metadata": {},
   "outputs": [],
   "source": [
    "tax = tax[Columnas]"
   ]
  },
  {
   "cell_type": "code",
   "execution_count": null,
   "id": "e8fb5b37",
   "metadata": {},
   "outputs": [],
   "source": [
    "tax.columns=Nombres"
   ]
  },
  {
   "cell_type": "code",
   "execution_count": null,
   "id": "b6eb270f",
   "metadata": {},
   "outputs": [],
   "source": [
    "url4 = 'https://raw.githubusercontent.com/bioinfo01123/taller2022/main/ASV_counts.txt'\n",
    "cuentas = pd.read_csv(url4, sep='\\t', header =None)"
   ]
  },
  {
   "cell_type": "code",
   "execution_count": null,
   "id": "1adbae91",
   "metadata": {},
   "outputs": [],
   "source": [
    "muestras = cuentas.columns[1:]"
   ]
  },
  {
   "cell_type": "code",
   "execution_count": null,
   "id": "8fa6b6dc",
   "metadata": {},
   "outputs": [],
   "source": [
    "tax"
   ]
  },
  {
   "cell_type": "code",
   "execution_count": null,
   "id": "7e46e4cb",
   "metadata": {},
   "outputs": [],
   "source": []
  },
  {
   "cell_type": "code",
   "execution_count": null,
   "id": "45bcaa79",
   "metadata": {},
   "outputs": [],
   "source": [
    "df2 = tax.merge(cuentas, on = 'Entry')"
   ]
  },
  {
   "cell_type": "code",
   "execution_count": null,
   "id": "795d2c7c",
   "metadata": {},
   "outputs": [],
   "source": []
  },
  {
   "cell_type": "code",
   "execution_count": null,
   "id": "238ce0e0",
   "metadata": {},
   "outputs": [],
   "source": []
  },
  {
   "cell_type": "code",
   "execution_count": null,
   "id": "2929feb3",
   "metadata": {},
   "outputs": [],
   "source": [
    "from ipywidgets import Button, GridBox, Layout, ButtonStyle, Box, HBox, VBox\n",
    "import ipywidgets as widgets"
   ]
  },
  {
   "cell_type": "code",
   "execution_count": null,
   "id": "de596696",
   "metadata": {},
   "outputs": [],
   "source": []
  },
  {
   "cell_type": "code",
   "execution_count": null,
   "id": "5e35ab0a",
   "metadata": {
    "scrolled": true
   },
   "outputs": [],
   "source": [
    "fig_size = []\n",
    "n = 1\n",
    "for i in range(31):\n",
    "    fig_size.append(round(n, 2))\n",
    "    n += 0.5\n",
    "    \n",
    "size = widgets.SelectionSlider(options=fig_size,value=5,disabled=False,\n",
    "                                      description = 'Plot:',\n",
    "                                continuous_update=False,orientation='horizontal',readout=True,\n",
    "                                   layout=Layout(width='400px', height='25px'))\n",
    "\n",
    "nivel = widgets.Dropdown(options=category_names[:-1],value=category_names[:-1][4],disabled=False,\n",
    "                        description = 'Nivel:',\n",
    "                                 layout = Layout(width='290px', height='25px'))\n",
    "\n",
    "sample = widgets.Dropdown(options=muestras,value=muestras[0],disabled=False,\n",
    "                        description = 'Muestra:',\n",
    "                                 layout = Layout(width='290px', height='25px'))\n",
    "\n",
    "colors = widgets.Dropdown(options=list(colores.keys()),value=list(colores.keys())[0],disabled=False,\n",
    "                        description = 'Color:',\n",
    "                                 layout = Layout(width='290px', height='25px'))\n",
    "\n",
    "top = widgets.SelectionSlider(options=[i for i in range(5, 31)],value=5,disabled=False,\n",
    "                                      description = 'Top:',\n",
    "                                continuous_update=False,orientation='horizontal',readout=True,\n",
    "                                   layout=Layout(width='400px', height='25px'))\n",
    "\n",
    "apertura = widgets.SelectionSlider(options=np.round(np.linspace(0, 1, 11), 2),value=0.5,disabled=False,\n",
    "                                      description = 'Centro:',\n",
    "                                continuous_update=False,orientation='horizontal',readout=True,\n",
    "                                   layout=Layout(width='400px', height='25px'))\n",
    "\n",
    "ley_title = widgets.SelectionSlider(options=range(5, 31), value=20,disabled=False,\n",
    "                                              description = 'Ley_title:',\n",
    "                                        continuous_update=False,orientation='horizontal',readout=True,\n",
    "                                           layout=Layout(width='400px', height='25px'))\n",
    "\n",
    "ley_letra = widgets.SelectionSlider(options=range(5, 21), value=12,disabled=False,\n",
    "                                              description = 'Ley_letra:',\n",
    "                                        continuous_update=False,orientation='horizontal',readout=True,\n",
    "                                           layout=Layout(width='400px', height='25px'))\n",
    "\n",
    "ley_posx = widgets.SelectionSlider(options=np.round(np.linspace(0, 1, 21), 2),value=np.round(np.linspace(0, 1, 21), 2)[-1],disabled=False,\n",
    "                                      description = 'X ley:',\n",
    "                                continuous_update=False,orientation='vertical',readout=True)\n",
    "\n",
    "ley_posy = widgets.SelectionSlider(options=np.round(np.linspace(0, 1, 21), 2),value=np.round(np.linspace(0, 1, 21), 2)[0],disabled=False,\n",
    "                                      description = 'Y ley:',\n",
    "                                continuous_update=False,orientation='vertical',readout=True)\n",
    "\n",
    "umbral = widgets.SelectionSlider(options=np.round(np.linspace(0, 1, 51), 2),value=0.1,disabled=False,\n",
    "                                      description = 'Umbral:',\n",
    "                                continuous_update=False,orientation='horizontal',readout=True,\n",
    "                                layout=Layout(width='400px', height='25px'))"
   ]
  },
  {
   "cell_type": "code",
   "execution_count": null,
   "id": "4a2c5aae",
   "metadata": {},
   "outputs": [],
   "source": [
    "import matplotlib as mpl\n",
    "from matplotlib import cm\n",
    "colores = {'tab20' : [mpl.colors.to_hex(i) for i in cm.tab20(np.arange(20)/20.)],\n",
    "          'tab10' : [mpl.colors.to_hex(i) for i in cm.tab10(np.arange(10)/10.)],\n",
    "          'tab20b' : [mpl.colors.to_hex(i) for i in cm.tab20b(np.arange(20)/20.)],\n",
    "          'tab20c' : [mpl.colors.to_hex(i) for i in cm.tab20c(np.arange(20)/20.)],\n",
    "          'Set3' : [mpl.colors.to_hex(i) for i in cm.Set3(np.arange(12)/12.)],\n",
    "          'Set2' : [mpl.colors.to_hex(i) for i in cm.Set2(np.arange(8)/8.)],\n",
    "          'Set1' : [mpl.colors.to_hex(i) for i in cm.Set1(np.arange(9)/9.)],\n",
    "          'Pastel2' : [mpl.colors.to_hex(i) for i in cm.Pastel2(np.arange(8)/8.)],\n",
    "          'Pastel1' : [mpl.colors.to_hex(i) for i in cm.Pastel1(np.arange(9)/9.)],\n",
    "          'Dark2' : [mpl.colors.to_hex(i) for i in cm.Dark2(np.arange(8)/8.)],\n",
    "          'Paired' : [mpl.colors.to_hex(i) for i in cm.Paired(np.arange(12)/12.)],\n",
    "          'Accent' : [mpl.colors.to_hex(i) for i in cm.Accent(np.arange(8)/8.)],\n",
    "          'Spectral' : [mpl.colors.to_hex(i) for i in cm.Spectral(np.arange(11)/11.)]}"
   ]
  },
  {
   "cell_type": "code",
   "execution_count": null,
   "id": "03a7765a",
   "metadata": {},
   "outputs": [],
   "source": []
  },
  {
   "cell_type": "code",
   "execution_count": null,
   "id": "010cbcab",
   "metadata": {},
   "outputs": [],
   "source": [
    "def show_rampa(nivel, sample, top, colors, umbral, size, apertura, ley_title, ley_letra, ley_posx, ley_posy):\n",
    "    T = nivel # nivel taxonómico\n",
    "    S = sample # elegir la muestra\n",
    "    U = top # elegir el número  de filas\n",
    "    df3 = df2.sort_values(by =S,ascending=False).reset_index(drop=True)\n",
    "    df44 = pd.pivot_table(df3, values=S, index=T, aggfunc=sum).reset_index()\n",
    "    df55 = df44.sort_values(by =S,ascending=False).reset_index(drop=True)\n",
    "    df55 = df55[df55[S] > 0]\n",
    "    top55 = df55.head(U)\n",
    "    top55 = top55.set_index(T)\n",
    "    \n",
    "    porc = [str(i)+' %' for i in list(np.round(np.array(top55[S].tolist()) / np.sum(top55[S].tolist()) * 100, 2))]\n",
    "    \n",
    "    porc2 = [i for i in list(np.round(np.array(top55[S].tolist()) / np.sum(top55[S].tolist()) * 100, 2))]\n",
    "    top55['per'] = porc2\n",
    "    top55 = top55[top55['per'] >= umbral]\n",
    "    \n",
    "    labels = top55.index.tolist()\n",
    "    \n",
    "    labels = top55.index.tolist()\n",
    "    sizes = top55[S].tolist()\n",
    "\n",
    "    fig = plt.figure(figsize=(size, size))\n",
    "    \n",
    "    ax = fig.add_axes([0, 0, 1, 1])\n",
    "\n",
    "    #ax.set_title('Biodiversidad', fontsize=20)\n",
    "\n",
    "    ax.pie(sizes, colors = colores[colors], shadow=False, startangle=0,\n",
    "           textprops={'fontsize': 0})\n",
    "\n",
    "    centre_circle = plt.Circle((0,0),apertura,fc='white')\n",
    "    \n",
    "    figg = plt.gcf()\n",
    "    figg.gca().add_artist(centre_circle)\n",
    "\n",
    "    plt.legend([a+' ('+b+')' for a, b in zip(labels, porc)], title=sample + ':  '+ T,\n",
    "               title_fontsize = ley_title, loc=(ley_posx, ley_posy), shadow=False, \n",
    "              borderpad = 0, edgecolor=\"white\", columnspacing = 1,\n",
    "               prop={'style':'italic', 'size':ley_letra})\n",
    "\n",
    "    plt.close()\n",
    "    plt.cla()\n",
    "    plt.clf()\n",
    "\n",
    "    display(fig)\n",
    "    \n",
    "    png1 = widgets.Button(description=\"PNG\", icon = 'fa-bar-chart', layout=Layout(width='200px'))\n",
    "    png1.style.button_color = 'gold'\n",
    "    def button_clicked1(b):\n",
    "        fig.savefig(sample+'_'+nivel+'.png', dpi = 900, bbox_inches= 'tight', facecolor = 'white')\n",
    "    png1.on_click(button_clicked1)\n",
    "    \n",
    "    display(png1)\n",
    "    \n",
    "    \n",
    "OUT = widgets.interactive_output(show_rampa, {'nivel':nivel, 'sample':sample, 'top':top, 'colors':colors,\n",
    "                                              'size':size, 'apertura':apertura, 'umbral':umbral,\n",
    "                                              'ley_title':ley_title, 'ley_letra':ley_letra,\n",
    "                                              'ley_posx':ley_posx, 'ley_posy':ley_posy})\n",
    "    \n",
    "    \n",
    "    \n",
    "    \n",
    "plot = HBox([VBox([widgets.HTML('<font color = #1976d2> <b style=\"font-size:1.5vw\">Donut plot</b>'),\n",
    "                   nivel, sample, top, colors, umbral, size, apertura, ley_title, ley_letra]), OUT, ley_posx, ley_posy])  "
   ]
  },
  {
   "cell_type": "code",
   "execution_count": null,
   "id": "1a58957b",
   "metadata": {},
   "outputs": [],
   "source": [
    "plot"
   ]
  },
  {
   "cell_type": "code",
   "execution_count": null,
   "id": "63d48135",
   "metadata": {},
   "outputs": [],
   "source": []
  },
  {
   "cell_type": "code",
   "execution_count": null,
   "id": "1f4301ad",
   "metadata": {},
   "outputs": [],
   "source": []
  },
  {
   "cell_type": "code",
   "execution_count": null,
   "id": "0fa0f721",
   "metadata": {},
   "outputs": [],
   "source": []
  },
  {
   "cell_type": "code",
   "execution_count": null,
   "id": "5a77c577",
   "metadata": {},
   "outputs": [],
   "source": []
  },
  {
   "cell_type": "code",
   "execution_count": null,
   "id": "53bcf944",
   "metadata": {},
   "outputs": [],
   "source": []
  },
  {
   "cell_type": "code",
   "execution_count": null,
   "id": "6f4d7c2c",
   "metadata": {},
   "outputs": [],
   "source": []
  },
  {
   "cell_type": "code",
   "execution_count": null,
   "id": "029bf08c",
   "metadata": {},
   "outputs": [],
   "source": []
  }
 ],
 "metadata": {
  "kernelspec": {
   "display_name": "Python 3",
   "language": "python",
   "name": "python3"
  },
  "language_info": {
   "codemirror_mode": {
    "name": "ipython",
    "version": 3
   },
   "file_extension": ".py",
   "mimetype": "text/x-python",
   "name": "python",
   "nbconvert_exporter": "python",
   "pygments_lexer": "ipython3",
   "version": "3.6.7"
  }
 },
 "nbformat": 4,
 "nbformat_minor": 5
}
