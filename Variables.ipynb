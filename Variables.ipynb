{
 "cells": [
  {
   "cell_type": "markdown",
   "metadata": {},
   "source": [
    "## Comentarios en programación"
   ]
  },
  {
   "cell_type": "markdown",
   "metadata": {},
   "source": [
    "#### Es recomendable agregar comentarios cuando se escribe código, pues ayuda a puntualizar acciones específicas, o a tener un control sobre los que está haciendo cada paso del código."
   ]
  },
  {
   "cell_type": "markdown",
   "metadata": {},
   "source": [
    "### <font color = limegreen>Pueden usar una de estas formas:</font>  \n",
    "* Para descripción de código o funciones usar triple comilla doble/simple `\"\"\"` o `'''` antes y después de la descripción, en filas diferentes.\n",
    "* Para comentarios usar el símbolo de numeral `#`"
   ]
  },
  {
   "cell_type": "code",
   "execution_count": null,
   "metadata": {},
   "outputs": [],
   "source": [
    "# El siguiente código obtiene el grado de hidrofobicidad de péptidos\n",
    "\n",
    "def funcion():\n",
    "    \"\"\"\n",
    "    El siguiente código obtiene ...\n",
    "    Debes ingresar la secuencia del péptido.\n",
    "    \"\"\"\n",
    "    print('Imprimiendo al ajecutar la función')\n",
    "\n"
   ]
  },
  {
   "cell_type": "code",
   "execution_count": null,
   "metadata": {},
   "outputs": [],
   "source": [
    "funcion()"
   ]
  },
  {
   "cell_type": "markdown",
   "metadata": {},
   "source": [
    "#### al ejecutar la ayuda `?` verán la descripción de la función"
   ]
  },
  {
   "cell_type": "code",
   "execution_count": 135,
   "metadata": {},
   "outputs": [],
   "source": [
    "?funcion"
   ]
  },
  {
   "cell_type": "code",
   "execution_count": 132,
   "metadata": {},
   "outputs": [
    {
     "name": "stdout",
     "output_type": "stream",
     "text": [
      "https://upsetplot.readthedocs.io/en/stable/_modules/upsetplot/plotting.html#UpSet\n"
     ]
    }
   ],
   "source": [
    "# Um ejemplo real de cómo usan la descripción y comentarios para dar información del cófigo\n",
    "print('https://upsetplot.readthedocs.io/en/stable/_modules/upsetplot/plotting.html#UpSet')"
   ]
  },
  {
   "cell_type": "code",
   "execution_count": null,
   "metadata": {},
   "outputs": [],
   "source": []
  },
  {
   "cell_type": "code",
   "execution_count": null,
   "metadata": {},
   "outputs": [],
   "source": []
  },
  {
   "cell_type": "markdown",
   "metadata": {},
   "source": [
    "# Variables\n",
    "\n",
    "### Una variable es una especie de caja en la que puedes guardar un objeto.\n",
    "### Esta caja ocupa un espacio en la memoria del ordenador de forma temporal.\n",
    " \n",
    "### Qué puedes guardar en una variable:\n",
    "\n",
    "|Objeto|\n",
    "|---|\n",
    "|Números (`float` = de punto flotante, `int` = enteros)|\n",
    "|Cadenas de caracteres `str = string`|\n",
    "|Arreglos|\n",
    "|Listas|\n",
    "|Diccionarios `dict`|\n",
    "|Tuplas|\n",
    "|Data Frame|\n",
    "|Conjuntos `set`|"
   ]
  },
  {
   "cell_type": "markdown",
   "metadata": {},
   "source": [
    "### <font color = limegreen>Definir una variable</font>  "
   ]
  },
  {
   "cell_type": "code",
   "execution_count": 175,
   "metadata": {},
   "outputs": [],
   "source": [
    "# puedes definir una cadena de caracteres\n",
    "var = 'Secuencia1'"
   ]
  },
  {
   "cell_type": "code",
   "execution_count": 191,
   "metadata": {},
   "outputs": [],
   "source": [
    "# un número entero\n",
    "x = 10"
   ]
  },
  {
   "cell_type": "code",
   "execution_count": 303,
   "metadata": {},
   "outputs": [],
   "source": [
    "# un número de punto flotante (con decimales)\n",
    "y = 25.545454"
   ]
  },
  {
   "cell_type": "code",
   "execution_count": 304,
   "metadata": {},
   "outputs": [],
   "source": [
    "# puedes guardar el resultado en otra variable\n",
    "z = x + y"
   ]
  },
  {
   "cell_type": "code",
   "execution_count": 306,
   "metadata": {},
   "outputs": [
    {
     "data": {
      "text/plain": [
       "35.545454"
      ]
     },
     "execution_count": 306,
     "metadata": {},
     "output_type": "execute_result"
    }
   ],
   "source": [
    "z"
   ]
  },
  {
   "cell_type": "code",
   "execution_count": 308,
   "metadata": {},
   "outputs": [
    {
     "name": "stdout",
     "output_type": "stream",
     "text": [
      "35.545454\n"
     ]
    }
   ],
   "source": [
    "\"\"\"\n",
    "en algunos casos print() muestra lo mismo que ejecutar solo la variable, en tablas u otras estructuras\n",
    "no ocurre lo mismo.\n",
    "\"\"\"\n",
    "print(z)"
   ]
  },
  {
   "cell_type": "code",
   "execution_count": 309,
   "metadata": {},
   "outputs": [
    {
     "ename": "TypeError",
     "evalue": "unsupported operand type(s) for +: 'int' and 'str'",
     "output_type": "error",
     "traceback": [
      "\u001b[1;31m---------------------------------------------------------------------------\u001b[0m",
      "\u001b[1;31mTypeError\u001b[0m                                 Traceback (most recent call last)",
      "\u001b[1;32m<ipython-input-309-172e3ad1bd7a>\u001b[0m in \u001b[0;36m<module>\u001b[1;34m\u001b[0m\n\u001b[0;32m      1\u001b[0m \u001b[1;31m# no se pueden sumar valores numericos y caracteres\u001b[0m\u001b[1;33m\u001b[0m\u001b[1;33m\u001b[0m\u001b[1;33m\u001b[0m\u001b[0m\n\u001b[1;32m----> 2\u001b[1;33m \u001b[0mx\u001b[0m \u001b[1;33m+\u001b[0m \u001b[0mvar\u001b[0m\u001b[1;33m\u001b[0m\u001b[1;33m\u001b[0m\u001b[0m\n\u001b[0m",
      "\u001b[1;31mTypeError\u001b[0m: unsupported operand type(s) for +: 'int' and 'str'"
     ]
    }
   ],
   "source": [
    "# no se pueden sumar valores numericos y caracteres\n",
    "x + var"
   ]
  },
  {
   "cell_type": "code",
   "execution_count": 243,
   "metadata": {},
   "outputs": [
    {
     "data": {
      "text/plain": [
       "'10Secuencia1'"
      ]
     },
     "execution_count": 243,
     "metadata": {},
     "output_type": "execute_result"
    }
   ],
   "source": [
    "# se puede convertir un número en string, la función str() convierte a x en un string\n",
    "str(x) + var"
   ]
  },
  {
   "cell_type": "code",
   "execution_count": null,
   "metadata": {},
   "outputs": [],
   "source": []
  },
  {
   "cell_type": "code",
   "execution_count": null,
   "metadata": {},
   "outputs": [],
   "source": []
  },
  {
   "cell_type": "markdown",
   "metadata": {},
   "source": [
    "### <font color = limegreen>Cómo borrar una variable</font> "
   ]
  },
  {
   "cell_type": "code",
   "execution_count": 244,
   "metadata": {
    "scrolled": true
   },
   "outputs": [],
   "source": [
    "del z"
   ]
  },
  {
   "cell_type": "code",
   "execution_count": null,
   "metadata": {},
   "outputs": [],
   "source": []
  },
  {
   "cell_type": "code",
   "execution_count": null,
   "metadata": {},
   "outputs": [],
   "source": []
  },
  {
   "cell_type": "markdown",
   "metadata": {},
   "source": [
    "## Funciones integradas\n",
    "\n",
    "|Función|Descripción|\n",
    "|---|---|\n",
    "|`set()`|Devuelve un conjunto|\n",
    "|`dict()`|Devuelve un diccionario|\n",
    "|`help()`|Da información sobre módulos|\n",
    "|`min()`|Devuelve el valor mínimo de una lista, arreglo o Dataframe|\n",
    "|`dir()`|Devuelve las variables definidas|\n",
    "|`enumerate()`|Enumera una lista empezando por cero|\n",
    "|`input()`|Función interactiva para ingresar valores|\n",
    "|`int()`|Devuelve núemros enteros|\n",
    "|`str()`|Devuelve un string o cadena de caracteres|\n",
    "|`sum()`|Suma los valores de una lista o arreglo|\n",
    "|`pow()`|Devuelve un valor elevado a la potencia X|\n",
    "|`float()`|Devuelve un número de punto flotante|\n",
    "|`print()`|Imprimir una variable|\n",
    "|`tuple()`|Devuelve una tupla (una lista inmutable)|\n",
    "|`len()`|Devuelve la longitud de un objeto|\n",
    "|`type()`|Devuelve el tipo del objeto|\n",
    "|`list()`|Devuelve una lista|\n",
    "|`range()`|Devuelve un rango de números|\n",
    "|`zip()`|Vuelve iterables dos elementos iterables|\n",
    "|`reversed()`|Devuelve el reverso de una lista|\n",
    "|`max()`|Devuelve el valor máximo de una lista, arreglo o Dataframe|\n",
    "|`round()`|Redondea un número de punto flotante|"
   ]
  },
  {
   "cell_type": "markdown",
   "metadata": {},
   "source": [
    "### Al definir variables tratar de no usar algún nombre de las funciones integradas, porque si después se desea usar la función original esto genera un error porque la función ya no existe"
   ]
  },
  {
   "cell_type": "code",
   "execution_count": null,
   "metadata": {},
   "outputs": [],
   "source": []
  },
  {
   "cell_type": "code",
   "execution_count": null,
   "metadata": {},
   "outputs": [],
   "source": []
  },
  {
   "cell_type": "code",
   "execution_count": null,
   "metadata": {},
   "outputs": [],
   "source": []
  },
  {
   "cell_type": "markdown",
   "metadata": {},
   "source": [
    "# <font color = red>Ejercicio:</font>\n",
    "* ### 1. En seguida se definen algunas variables con varios objetos.\n",
    "* ### 2. Usando las funciones `print()` y `type()`, imprime e identifica qué tipo de objeto contienen las variables, la respuesta escríbela como un comentario \n",
    "* ### 3. Cuál es la longitud de la secuencia de nucleótidos\n",
    "* ### 4. Cúal es el resultado de sumar la variable6 con la variable11\n",
    "* ### 5. A qué organismo lleva el enlace de lavariable10, cuántos aminoácidos tiene la proteína que muestra y cuántos nucleótidos. "
   ]
  },
  {
   "cell_type": "code",
   "execution_count": 320,
   "metadata": {},
   "outputs": [],
   "source": [
    "variable1 = 3.141592653589793\n",
    "variable2 = 100\n",
    "variable3 = {'peptide1':'MTTNEEFIRTQIF', 'peptide2':'GTVFEITN', 'peptide3':'RYNDLNPVG'}\n",
    "variable4 = '100.01'\n",
    "variable5 = 'atgaccactaacgaggaattcattaggacacagatattcggtacagttttcgagatcacaaatagatacaatgatttaaaccccgt'\n",
    "variable6 = [1.1, 2.1, 3.0, 4.0, 5.2, 6, 2, 6.5, 10, 3]\n",
    "variable7 = sum(variable6)\n",
    "variable8 = set(variable5)\n",
    "variable9 = int(pow(5.2, 4) - 0.1616000000001)\n",
    "variable10 = 'https://www.genome.jp/dbget-bin/www_bget?sce:YLR113W'\n",
    "variable11 = (1.1,2.1,3.0,4.0,5.2,6)"
   ]
  },
  {
   "cell_type": "code",
   "execution_count": 321,
   "metadata": {},
   "outputs": [
    {
     "name": "stdout",
     "output_type": "stream",
     "text": [
      "3.141592653589793\n"
     ]
    },
    {
     "data": {
      "text/plain": [
       "float"
      ]
     },
     "execution_count": 321,
     "metadata": {},
     "output_type": "execute_result"
    }
   ],
   "source": [
    "# 1\n",
    "print(variable1)\n",
    "type(variable1) # es un número de punto flotante"
   ]
  },
  {
   "cell_type": "code",
   "execution_count": null,
   "metadata": {},
   "outputs": [],
   "source": []
  },
  {
   "cell_type": "code",
   "execution_count": null,
   "metadata": {},
   "outputs": [],
   "source": []
  },
  {
   "cell_type": "markdown",
   "metadata": {},
   "source": [
    "### Frecuencia de nucleótidos de la variable: variable5"
   ]
  },
  {
   "cell_type": "code",
   "execution_count": 302,
   "metadata": {},
   "outputs": [
    {
     "data": {
      "text/plain": [
       "Counter({'a': 32, 't': 22, 'g': 15, 'c': 17})"
      ]
     },
     "execution_count": 302,
     "metadata": {},
     "output_type": "execute_result"
    }
   ],
   "source": [
    "from collections import Counter\n",
    "conteo = Counter(variable5) # devuelve la frecuencia de elemenetos en un string o una lista\n",
    "conteo"
   ]
  },
  {
   "cell_type": "code",
   "execution_count": null,
   "metadata": {},
   "outputs": [],
   "source": []
  },
  {
   "cell_type": "code",
   "execution_count": null,
   "metadata": {},
   "outputs": [],
   "source": []
  },
  {
   "cell_type": "markdown",
   "metadata": {},
   "source": [
    "# Comparaciones\n",
    "|Operation|Meaning|\n",
    "|---|---|\n",
    "|`<`|strictly less than|\n",
    "|`<=`|less than or equal|\n",
    "|`>`|strictly greater than|\n",
    "|`>=`|greater than or equal|\n",
    "|`==`|equal|\n",
    "|`!=`|not equal|\n",
    "|`is`|object identity|\n",
    "|`is not`|negated object identity|\n",
    "\n",
    "#### Los resultados boleanos siempre devuelven `False` o `True`"
   ]
  },
  {
   "cell_type": "code",
   "execution_count": 246,
   "metadata": {},
   "outputs": [
    {
     "data": {
      "text/plain": [
       "False"
      ]
     },
     "execution_count": 246,
     "metadata": {},
     "output_type": "execute_result"
    }
   ],
   "source": [
    "x < y"
   ]
  },
  {
   "cell_type": "code",
   "execution_count": 247,
   "metadata": {},
   "outputs": [
    {
     "data": {
      "text/plain": [
       "False"
      ]
     },
     "execution_count": 247,
     "metadata": {},
     "output_type": "execute_result"
    }
   ],
   "source": [
    "x <= y"
   ]
  },
  {
   "cell_type": "code",
   "execution_count": 248,
   "metadata": {},
   "outputs": [
    {
     "data": {
      "text/plain": [
       "True"
      ]
     },
     "execution_count": 248,
     "metadata": {},
     "output_type": "execute_result"
    }
   ],
   "source": [
    "x > y"
   ]
  },
  {
   "cell_type": "code",
   "execution_count": 249,
   "metadata": {},
   "outputs": [
    {
     "data": {
      "text/plain": [
       "False"
      ]
     },
     "execution_count": 249,
     "metadata": {},
     "output_type": "execute_result"
    }
   ],
   "source": [
    "x <= y"
   ]
  },
  {
   "cell_type": "code",
   "execution_count": 251,
   "metadata": {},
   "outputs": [
    {
     "data": {
      "text/plain": [
       "False"
      ]
     },
     "execution_count": 251,
     "metadata": {},
     "output_type": "execute_result"
    }
   ],
   "source": [
    "x == y"
   ]
  },
  {
   "cell_type": "code",
   "execution_count": 252,
   "metadata": {},
   "outputs": [
    {
     "data": {
      "text/plain": [
       "True"
      ]
     },
     "execution_count": 252,
     "metadata": {},
     "output_type": "execute_result"
    }
   ],
   "source": [
    "x != y"
   ]
  },
  {
   "cell_type": "code",
   "execution_count": 253,
   "metadata": {},
   "outputs": [
    {
     "data": {
      "text/plain": [
       "False"
      ]
     },
     "execution_count": 253,
     "metadata": {},
     "output_type": "execute_result"
    }
   ],
   "source": [
    "x is y"
   ]
  },
  {
   "cell_type": "code",
   "execution_count": 254,
   "metadata": {},
   "outputs": [
    {
     "data": {
      "text/plain": [
       "True"
      ]
     },
     "execution_count": 254,
     "metadata": {},
     "output_type": "execute_result"
    }
   ],
   "source": [
    "x is not y"
   ]
  },
  {
   "cell_type": "code",
   "execution_count": null,
   "metadata": {},
   "outputs": [],
   "source": []
  },
  {
   "cell_type": "code",
   "execution_count": null,
   "metadata": {},
   "outputs": [],
   "source": []
  },
  {
   "cell_type": "code",
   "execution_count": null,
   "metadata": {},
   "outputs": [],
   "source": []
  },
  {
   "cell_type": "code",
   "execution_count": null,
   "metadata": {},
   "outputs": [],
   "source": []
  },
  {
   "cell_type": "code",
   "execution_count": null,
   "metadata": {},
   "outputs": [],
   "source": []
  }
 ],
 "metadata": {
  "kernelspec": {
   "display_name": "Python 3",
   "language": "python",
   "name": "python3"
  },
  "language_info": {
   "codemirror_mode": {
    "name": "ipython",
    "version": 3
   },
   "file_extension": ".py",
   "mimetype": "text/x-python",
   "name": "python",
   "nbconvert_exporter": "python",
   "pygments_lexer": "ipython3",
   "version": "3.6.7"
  }
 },
 "nbformat": 4,
 "nbformat_minor": 4
}
