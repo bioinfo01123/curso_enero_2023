{
 "cells": [
  {
   "cell_type": "code",
   "execution_count": null,
   "metadata": {},
   "outputs": [],
   "source": [
    "from IPython.core.display import display, HTML, Javascript\n",
    "display(HTML(\"<style>.container { width:90% !important; }</style>\"))"
   ]
  },
  {
   "cell_type": "markdown",
   "metadata": {},
   "source": [
    "# <font color = blue>DataFrames</font>\n",
    "\n",
    "https://pandas.pydata.org/pandas-docs/stable/reference/api/pandas.DataFrame.html\n",
    "- ## se utiliza para <font color = limegreen>manipulaciones de datos estructurados</font> y <font color = limegreen>estadística</font>\n",
    "- ## Es muy habitual usarlo en la fase de depuración y preparación de los datos.\n",
    "- ## Es un módulo que se ha añadido recientemente, pero <font color = limegreen>su gran utilidad ha impulsado el uso de Python en la comunidad científica</font> \n",
    "- ## Permite crear DataFrames, <font color = limegreen>que son tablas de datos ordenadas por filas y columnas</font>\n",
    "\n",
    "<img style=\"float:center;\" src=\"https://github.com/bioinfo01123/Semana1/blob/master/pandas.png?raw=true\" width = 80%>\n",
    "\n",
    "<img style=\"float:center;\" src=\"https://raw.githubusercontent.com/bioinfo01123/taller2022/main/Clase1_dataframes_pandas.png\" width = 80%> \n",
    "\n",
    "- ##  <font color = darkorange>Un DataFrame es la estructura de datos más importante y ampliamente usada, y es una manera estándar de almacenar datos</font>"
   ]
  },
  {
   "cell_type": "code",
   "execution_count": null,
   "metadata": {},
   "outputs": [],
   "source": []
  },
  {
   "cell_type": "markdown",
   "metadata": {},
   "source": [
    "## Importar pandas"
   ]
  },
  {
   "cell_type": "code",
   "execution_count": null,
   "metadata": {},
   "outputs": [],
   "source": [
    "import pandas as pd\n",
    "from pandas import DataFrame"
   ]
  },
  {
   "cell_type": "code",
   "execution_count": null,
   "metadata": {},
   "outputs": [],
   "source": []
  },
  {
   "cell_type": "markdown",
   "metadata": {},
   "source": [
    "# Cómo construir un DataFrame desde cero"
   ]
  },
  {
   "cell_type": "code",
   "execution_count": null,
   "metadata": {},
   "outputs": [],
   "source": [
    "# cómo hacer un df de dos columna\n",
    "d = {'col1': [1, 2, 3, 4, 5], 'col2': [6, 7, 8, 9, 10], 'col3': [11, 12, 13, 14, 15], 'col4': [16, 17, 18, 19, 20]}"
   ]
  },
  {
   "cell_type": "code",
   "execution_count": null,
   "metadata": {},
   "outputs": [],
   "source": [
    "d"
   ]
  },
  {
   "cell_type": "code",
   "execution_count": null,
   "metadata": {},
   "outputs": [],
   "source": [
    "pd.DataFrame(data=d)"
   ]
  },
  {
   "cell_type": "code",
   "execution_count": null,
   "metadata": {},
   "outputs": [],
   "source": [
    "indice = ['A', 'B', 'C', 'D', 'E']\n",
    "pd.DataFrame(data=d, index = indice)"
   ]
  },
  {
   "cell_type": "code",
   "execution_count": null,
   "metadata": {},
   "outputs": [],
   "source": []
  },
  {
   "cell_type": "code",
   "execution_count": null,
   "metadata": {},
   "outputs": [],
   "source": [
    "# cómo hacer un df de una columna\n",
    "d1 = {'col1': [1,2,3,4,4,6,7,8,9,0]}"
   ]
  },
  {
   "cell_type": "code",
   "execution_count": null,
   "metadata": {},
   "outputs": [],
   "source": [
    "pd.DataFrame(data=d1)"
   ]
  },
  {
   "cell_type": "code",
   "execution_count": null,
   "metadata": {},
   "outputs": [],
   "source": []
  },
  {
   "cell_type": "code",
   "execution_count": null,
   "metadata": {},
   "outputs": [],
   "source": [
    "import random\n",
    "import string\n",
    "\n",
    "# creamos una lista de letras al azar\n",
    "letters = string.ascii_uppercase\n",
    "columnas = random.choices(letters,k=10)"
   ]
  },
  {
   "cell_type": "code",
   "execution_count": null,
   "metadata": {},
   "outputs": [],
   "source": [
    "columnas"
   ]
  },
  {
   "cell_type": "code",
   "execution_count": null,
   "metadata": {},
   "outputs": [],
   "source": [
    "# otra forma de construir un df de dos columnas\n",
    "d2 = [[1, 2, 3, 4, 5, 6, 7, 8, 9, 10], [11, 12, 13, 14, 15, 16, 17, 18, 19, 20]]"
   ]
  },
  {
   "cell_type": "code",
   "execution_count": null,
   "metadata": {},
   "outputs": [],
   "source": [
    "# usamos las letras como nombres de columnas\n",
    "DataFrame(d2, columns = columnas)"
   ]
  },
  {
   "cell_type": "code",
   "execution_count": null,
   "metadata": {},
   "outputs": [],
   "source": []
  },
  {
   "cell_type": "code",
   "execution_count": null,
   "metadata": {},
   "outputs": [],
   "source": [
    "# otra forma de construir un df de dos columnas\n",
    "d3 = [[1,7], [2,7], [3,7], [4,7], [5,7], [1,7], [2,7], [3,7], [4,7], [5,7]]"
   ]
  },
  {
   "cell_type": "code",
   "execution_count": null,
   "metadata": {},
   "outputs": [],
   "source": [
    "DataFrame(d3, columns = ['A', 'B'])"
   ]
  },
  {
   "cell_type": "code",
   "execution_count": null,
   "metadata": {},
   "outputs": [],
   "source": []
  },
  {
   "cell_type": "markdown",
   "metadata": {},
   "source": [
    "## <font color = red>Descarga el siguiente archivo usando tu función de descarga:</font>\n",
    "https://raw.githubusercontent.com/Bioinformatica2020/Semana5/master/Ontology.csv    \n",
    "\n",
    "\n",
    "# Cómo abrir una tabla:\n",
    "- ### separada por comas\n",
    "- ### separada por tabuladores"
   ]
  },
  {
   "cell_type": "code",
   "execution_count": null,
   "metadata": {},
   "outputs": [],
   "source": []
  },
  {
   "cell_type": "code",
   "execution_count": null,
   "metadata": {},
   "outputs": [],
   "source": [
    "url1 = 'https://raw.githubusercontent.com/Bioinformatica2020/Semana5/master/Ontology.csv'"
   ]
  },
  {
   "cell_type": "code",
   "execution_count": null,
   "metadata": {},
   "outputs": [],
   "source": [
    "# abrir un archivo alojado en la plataforma de Github\n",
    "ontologia = pd.read_csv(url1)"
   ]
  },
  {
   "cell_type": "code",
   "execution_count": null,
   "metadata": {},
   "outputs": [],
   "source": [
    "ontologia"
   ]
  },
  {
   "cell_type": "code",
   "execution_count": null,
   "metadata": {},
   "outputs": [],
   "source": []
  },
  {
   "cell_type": "code",
   "execution_count": null,
   "metadata": {},
   "outputs": [],
   "source": [
    "# conteo del número de registros\n",
    "len(ontologia)"
   ]
  },
  {
   "cell_type": "code",
   "execution_count": null,
   "metadata": {},
   "outputs": [],
   "source": [
    "# otra forma de contar los registros y los muestra por columna\n",
    "ontologia.count()"
   ]
  },
  {
   "cell_type": "code",
   "execution_count": null,
   "metadata": {},
   "outputs": [],
   "source": [
    "ontologia.dtypes"
   ]
  },
  {
   "cell_type": "code",
   "execution_count": null,
   "metadata": {},
   "outputs": [],
   "source": [
    "ontologia.info()"
   ]
  },
  {
   "cell_type": "code",
   "execution_count": null,
   "metadata": {},
   "outputs": [],
   "source": [
    "ontologia.describe()"
   ]
  },
  {
   "cell_type": "code",
   "execution_count": null,
   "metadata": {
    "scrolled": true
   },
   "outputs": [],
   "source": []
  },
  {
   "cell_type": "code",
   "execution_count": null,
   "metadata": {},
   "outputs": [],
   "source": []
  },
  {
   "cell_type": "code",
   "execution_count": null,
   "metadata": {},
   "outputs": [],
   "source": [
    "url2 = 'https://raw.githubusercontent.com/Bioinformatica2020/Semana5/master/Enrichment_data.csv'"
   ]
  },
  {
   "cell_type": "code",
   "execution_count": null,
   "metadata": {},
   "outputs": [],
   "source": [
    "# abrir un archivo alojado en la plataforma de Github\n",
    "enriquecimiento = pd.read_csv(url2, sep = '\\t')"
   ]
  },
  {
   "cell_type": "code",
   "execution_count": null,
   "metadata": {},
   "outputs": [],
   "source": [
    "enriquecimiento"
   ]
  },
  {
   "cell_type": "code",
   "execution_count": null,
   "metadata": {},
   "outputs": [],
   "source": [
    "enriquecimiento.dtypes"
   ]
  },
  {
   "cell_type": "code",
   "execution_count": null,
   "metadata": {},
   "outputs": [],
   "source": [
    "enriquecimiento.info()"
   ]
  },
  {
   "cell_type": "code",
   "execution_count": null,
   "metadata": {},
   "outputs": [],
   "source": [
    "len(enriquecimiento)"
   ]
  },
  {
   "cell_type": "code",
   "execution_count": null,
   "metadata": {},
   "outputs": [],
   "source": [
    "enriquecimiento.count()"
   ]
  },
  {
   "cell_type": "code",
   "execution_count": null,
   "metadata": {},
   "outputs": [],
   "source": [
    "enriquecimiento.min()"
   ]
  },
  {
   "cell_type": "code",
   "execution_count": null,
   "metadata": {},
   "outputs": [],
   "source": [
    "enriquecimiento.max()"
   ]
  },
  {
   "cell_type": "code",
   "execution_count": null,
   "metadata": {},
   "outputs": [],
   "source": []
  },
  {
   "cell_type": "code",
   "execution_count": null,
   "metadata": {},
   "outputs": [],
   "source": []
  },
  {
   "cell_type": "markdown",
   "metadata": {},
   "source": [
    "# Cómo filtrar información\n",
    "\n",
    "- ### Seleccionar: filas o columnas\n",
    "- ### Eliminar: filas o columnas\n",
    "- ### Por valores numéricos\n",
    "\n",
    "### <font color = darkorange>seleccionar un determinado número de filas o de columnas</font>\n",
    "\n",
    "- #### `iloc` obtiene filas (o columnas) en posiciones particulares en el índice (por lo que solo toma números)\n",
    "\n",
    "Esta unción puede tener 1 o 2 argumentos, el primero para filas y el segundo para columnas"
   ]
  },
  {
   "cell_type": "code",
   "execution_count": null,
   "metadata": {},
   "outputs": [],
   "source": []
  },
  {
   "cell_type": "code",
   "execution_count": null,
   "metadata": {},
   "outputs": [],
   "source": [
    "# nuevo dataframe\n",
    "d2 = [[1, 2, 3, 4, 5, 6, 7, 8, 9, 10], [11, 12, 13, 14, 15, 16, 17, 18, 19, 20]] * 4"
   ]
  },
  {
   "cell_type": "code",
   "execution_count": null,
   "metadata": {},
   "outputs": [],
   "source": [
    "d22 = DataFrame(d2, columns = columnas)\n",
    "d22"
   ]
  },
  {
   "cell_type": "code",
   "execution_count": null,
   "metadata": {},
   "outputs": [],
   "source": [
    "# les estoy diciendo que tome de la fila 5 a la 6, y de la columna 6 en adelante\n",
    "d22.iloc[4:6, 5:]"
   ]
  },
  {
   "cell_type": "code",
   "execution_count": null,
   "metadata": {},
   "outputs": [],
   "source": [
    "# les estoy diciendo que tome todas las filas, y solo las columnas de la 6 a la 9\n",
    "d22.iloc[:, 5:9]"
   ]
  },
  {
   "cell_type": "code",
   "execution_count": null,
   "metadata": {},
   "outputs": [],
   "source": []
  },
  {
   "cell_type": "markdown",
   "metadata": {},
   "source": [
    "### <font color = darkorange>seleccionar filas con un patrón</font>"
   ]
  },
  {
   "cell_type": "code",
   "execution_count": null,
   "metadata": {},
   "outputs": [],
   "source": [
    "ontologia.head()"
   ]
  },
  {
   "cell_type": "code",
   "execution_count": null,
   "metadata": {
    "scrolled": true
   },
   "outputs": [],
   "source": [
    "ontologia[ontologia['Aspect'].str.contains('P') == True]"
   ]
  },
  {
   "cell_type": "code",
   "execution_count": null,
   "metadata": {
    "scrolled": true
   },
   "outputs": [],
   "source": [
    "# otra forma de seleccionar filas usando un patrón específico pero completo\n",
    "ontologia[ontologia.Aspect == 'P']"
   ]
  },
  {
   "cell_type": "code",
   "execution_count": null,
   "metadata": {},
   "outputs": [],
   "source": [
    "# selecciona algún término de la columna Term\n"
   ]
  },
  {
   "cell_type": "code",
   "execution_count": null,
   "metadata": {},
   "outputs": [],
   "source": []
  },
  {
   "cell_type": "code",
   "execution_count": null,
   "metadata": {
    "scrolled": true
   },
   "outputs": [],
   "source": [
    "#\n",
    "ontologia[ontologia['Term'].str.contains('metabolic') == True]"
   ]
  },
  {
   "cell_type": "code",
   "execution_count": null,
   "metadata": {},
   "outputs": [],
   "source": []
  },
  {
   "cell_type": "markdown",
   "metadata": {},
   "source": [
    "### <font color = darkorange>Seleccionar filas que superan un valor</font>"
   ]
  },
  {
   "cell_type": "code",
   "execution_count": null,
   "metadata": {},
   "outputs": [],
   "source": [
    "enriquecimiento[enriquecimiento.list_count > 200]"
   ]
  },
  {
   "cell_type": "code",
   "execution_count": null,
   "metadata": {},
   "outputs": [],
   "source": []
  },
  {
   "cell_type": "markdown",
   "metadata": {},
   "source": [
    "### <font color = darkorange>Seleccionar filas dentro de un intervalo de valores</font>"
   ]
  },
  {
   "cell_type": "code",
   "execution_count": null,
   "metadata": {
    "scrolled": true
   },
   "outputs": [],
   "source": [
    "enriquecimiento.list_count >= 10"
   ]
  },
  {
   "cell_type": "code",
   "execution_count": null,
   "metadata": {},
   "outputs": [],
   "source": [
    "# filas con valores entre 10 y 50 para la columna list_count\n",
    "enriquecimiento[((enriquecimiento.list_count >= 10) == True) & ((enriquecimiento.list_count <= 50) == True)]"
   ]
  },
  {
   "cell_type": "code",
   "execution_count": null,
   "metadata": {},
   "outputs": [],
   "source": []
  },
  {
   "cell_type": "markdown",
   "metadata": {},
   "source": [
    "### <font color = darkorange>eliminar filas con un patrón</font>"
   ]
  },
  {
   "cell_type": "code",
   "execution_count": null,
   "metadata": {
    "scrolled": true
   },
   "outputs": [],
   "source": [
    "ontologia[ontologia['Aspect'].str.contains('P|C') == False]"
   ]
  },
  {
   "cell_type": "code",
   "execution_count": null,
   "metadata": {},
   "outputs": [],
   "source": []
  },
  {
   "cell_type": "code",
   "execution_count": null,
   "metadata": {},
   "outputs": [],
   "source": []
  },
  {
   "cell_type": "markdown",
   "metadata": {},
   "source": [
    "### <font color = darkorange>seleccionar columnas</font>"
   ]
  },
  {
   "cell_type": "code",
   "execution_count": null,
   "metadata": {
    "scrolled": true
   },
   "outputs": [],
   "source": [
    "# Selecionar una columna\n",
    "ontologia[['Term']]"
   ]
  },
  {
   "cell_type": "code",
   "execution_count": null,
   "metadata": {
    "scrolled": true
   },
   "outputs": [],
   "source": [
    "enriquecimiento[['list_count' , 'P']]"
   ]
  },
  {
   "cell_type": "code",
   "execution_count": null,
   "metadata": {},
   "outputs": [],
   "source": []
  },
  {
   "cell_type": "markdown",
   "metadata": {},
   "source": [
    "### <font color = darkorange>eliminar columnas</font>"
   ]
  },
  {
   "cell_type": "code",
   "execution_count": null,
   "metadata": {
    "scrolled": true
   },
   "outputs": [],
   "source": [
    "# eliminar columnas específicas\n",
    "ontologia.drop(columns = ['GO'])"
   ]
  },
  {
   "cell_type": "code",
   "execution_count": null,
   "metadata": {},
   "outputs": [],
   "source": []
  },
  {
   "cell_type": "markdown",
   "metadata": {},
   "source": [
    "### <font color = darkorange>Ordenar filas</font>"
   ]
  },
  {
   "cell_type": "code",
   "execution_count": null,
   "metadata": {},
   "outputs": [],
   "source": [
    "enriquecimiento.head()"
   ]
  },
  {
   "cell_type": "code",
   "execution_count": null,
   "metadata": {},
   "outputs": [],
   "source": [
    "enriquecimiento.sort_values(by = ['list_count'], ascending=False)"
   ]
  },
  {
   "cell_type": "code",
   "execution_count": null,
   "metadata": {},
   "outputs": [],
   "source": []
  },
  {
   "cell_type": "code",
   "execution_count": null,
   "metadata": {},
   "outputs": [],
   "source": []
  },
  {
   "cell_type": "markdown",
   "metadata": {},
   "source": [
    "# Tablas dinámicas"
   ]
  },
  {
   "cell_type": "code",
   "execution_count": null,
   "metadata": {},
   "outputs": [],
   "source": [
    "ontologia.head()"
   ]
  },
  {
   "cell_type": "code",
   "execution_count": null,
   "metadata": {},
   "outputs": [],
   "source": [
    "ontologia.pivot_table(values = 'GO', index = ['Aspect'], aggfunc = len).reset_index()"
   ]
  },
  {
   "cell_type": "markdown",
   "metadata": {},
   "source": [
    "## <font color = red>Ejercicio:</font>\n",
    "### Modificando el comando anterior determina la frecuencia de Terms"
   ]
  },
  {
   "cell_type": "code",
   "execution_count": null,
   "metadata": {},
   "outputs": [],
   "source": [
    "enriquecimiento.head()"
   ]
  },
  {
   "cell_type": "code",
   "execution_count": null,
   "metadata": {
    "scrolled": true
   },
   "outputs": [],
   "source": [
    "enriquecimiento.pivot_table(values = 'GO', index = ['Sig'], aggfunc = \"count\").reset_index()"
   ]
  },
  {
   "cell_type": "code",
   "execution_count": null,
   "metadata": {},
   "outputs": [],
   "source": []
  },
  {
   "cell_type": "code",
   "execution_count": null,
   "metadata": {
    "scrolled": true
   },
   "outputs": [],
   "source": [
    "enriquecimiento.pivot_table(values = 'Term', index = ['list_count'], aggfunc = len).reset_index()"
   ]
  },
  {
   "cell_type": "markdown",
   "metadata": {},
   "source": [
    "# Agrupar datos con la función `groupby`"
   ]
  },
  {
   "cell_type": "code",
   "execution_count": null,
   "metadata": {
    "scrolled": true
   },
   "outputs": [],
   "source": [
    "enriquecimiento.groupby(['list_count']).Term.count().reset_index()"
   ]
  },
  {
   "cell_type": "code",
   "execution_count": null,
   "metadata": {},
   "outputs": [],
   "source": [
    "enriquecimiento[enriquecimiento.list_count == 7]"
   ]
  },
  {
   "cell_type": "code",
   "execution_count": null,
   "metadata": {},
   "outputs": [],
   "source": []
  },
  {
   "cell_type": "code",
   "execution_count": null,
   "metadata": {},
   "outputs": [],
   "source": []
  },
  {
   "cell_type": "markdown",
   "metadata": {},
   "source": [
    "# función `iterrows()`\n",
    "## Cuando tienes DataFrames también puedes iterar con sus columnas para realizar alguna acción"
   ]
  },
  {
   "cell_type": "code",
   "execution_count": null,
   "metadata": {},
   "outputs": [],
   "source": [
    "for indice, columna in enriquecimiento.iterrows():\n",
    "    # si el valor de P es menor que el FDR entonces es significante\n",
    "    # cuando el valor de P es igual o mayor que el FDR deja de ser significante\n",
    "    print((columna.P < columna.FDR), columna.Sig, columna.Term)"
   ]
  },
  {
   "cell_type": "code",
   "execution_count": null,
   "metadata": {},
   "outputs": [],
   "source": []
  },
  {
   "cell_type": "code",
   "execution_count": null,
   "metadata": {},
   "outputs": [],
   "source": []
  },
  {
   "cell_type": "code",
   "execution_count": null,
   "metadata": {},
   "outputs": [],
   "source": []
  },
  {
   "cell_type": "code",
   "execution_count": null,
   "metadata": {},
   "outputs": [],
   "source": []
  },
  {
   "cell_type": "markdown",
   "metadata": {},
   "source": [
    "# Cómo hacer `merge`, una herramienta útil para hacer mapeos\n",
    "https://pandas.pydata.org/pandas-docs/stable/user_guide/merging.html\n",
    "## Mapeo de identificadores\n",
    "### El `merge` solo aplica para cadenas de caracteres, no funciona con números, solo si antes los conviertes caracteres"
   ]
  },
  {
   "cell_type": "code",
   "execution_count": null,
   "metadata": {},
   "outputs": [],
   "source": []
  },
  {
   "cell_type": "code",
   "execution_count": null,
   "metadata": {
    "scrolled": true
   },
   "outputs": [],
   "source": [
    "enriquecimiento2 = enriquecimiento.merge(ontologia, on = 'GO')"
   ]
  },
  {
   "cell_type": "code",
   "execution_count": null,
   "metadata": {
    "scrolled": true
   },
   "outputs": [],
   "source": [
    "enriquecimiento2"
   ]
  },
  {
   "cell_type": "code",
   "execution_count": null,
   "metadata": {},
   "outputs": [],
   "source": [
    "enriquecimiento2.pivot_table(values='GO',index=['Sig'], columns = 'Aspect',aggfunc = \"count\").reset_index()"
   ]
  },
  {
   "cell_type": "code",
   "execution_count": null,
   "metadata": {},
   "outputs": [],
   "source": []
  },
  {
   "cell_type": "code",
   "execution_count": null,
   "metadata": {},
   "outputs": [],
   "source": []
  },
  {
   "cell_type": "markdown",
   "metadata": {},
   "source": [
    "## <font color = red>Ejercicio:</font>\n",
    "### Usando la variable enriquecimiento2:\n",
    "- #### Filtra solo el aspecto Biological Process\n",
    "- #### Qué términos son estadísticamente significativos, T en la columna `Sig`\n",
    "- #### Cuántos Terms tienen un valor de P menor a 0.05"
   ]
  },
  {
   "cell_type": "code",
   "execution_count": null,
   "metadata": {},
   "outputs": [],
   "source": []
  },
  {
   "cell_type": "code",
   "execution_count": null,
   "metadata": {},
   "outputs": [],
   "source": []
  },
  {
   "cell_type": "code",
   "execution_count": null,
   "metadata": {
    "scrolled": true
   },
   "outputs": [],
   "source": [
    "bp = enriquecimiento2[enriquecimiento2.Aspect == 'P']"
   ]
  },
  {
   "cell_type": "code",
   "execution_count": null,
   "metadata": {},
   "outputs": [],
   "source": [
    "bp"
   ]
  },
  {
   "cell_type": "code",
   "execution_count": null,
   "metadata": {},
   "outputs": [],
   "source": []
  },
  {
   "cell_type": "code",
   "execution_count": null,
   "metadata": {},
   "outputs": [],
   "source": []
  },
  {
   "cell_type": "code",
   "execution_count": null,
   "metadata": {},
   "outputs": [],
   "source": [
    "import matplotlib.pyplot as plt"
   ]
  },
  {
   "cell_type": "code",
   "execution_count": null,
   "metadata": {},
   "outputs": [],
   "source": [
    "fig, ax = plt.subplots(figsize=(5,10), linewidth= 5)\n",
    "\n",
    "for i, j in zip(bp[['Term_x']].loc[0:25].Term_x.tolist(), # Columna 0 del DataFrame frecuencia2\n",
    "                bp[['list_count']].loc[0:25].list_count.tolist()): # Columna 1 del DataFrame frecuencia2\n",
    "    ax.barh(i, # etiquetas del eje x, en itálica\n",
    "            j, # valores del eje y\n",
    "             color= 'blue', # color \n",
    "             align='center', # alineamiento de las barras, la otra opción 'edge'\n",
    "             height= 0.8, # grosor de las barras\n",
    "            linewidth = 0, # ancho del borde de las barras\n",
    "             alpha = 1, # transparencia\n",
    "            edgecolor= 'blue') # color del borde de las barras\n",
    "\n",
    "ax.spines['right'].set_visible(False) # oculta la linea derecha\n",
    "ax.spines['left'].set_visible(False) # oculta la linea izquierda\n",
    "ax.spines['top'].set_visible(False) # oculta la linea superior \n",
    "ax.spines['bottom'].set_position(('data',-0.6)) # separación entre la primer barra y el eje x\n",
    "\n",
    "ax.xaxis.set_tick_params(labelsize=10) # tamaño de letra del eje x\n",
    "ax.yaxis.set_tick_params(labelsize=12) # tamaño de letra del eje y\n",
    "ax.set_xlabel(\"Número de proteínas\",size= 15) # título y tamaño para el eje x\n",
    "ax.set_ylabel(\"Términos\", size= 15) # título y tamaño para el eje y\n",
    "ax.set_title('Frecuencia', size= 20) # Título del gráfico\n",
    "\n",
    "# si quieres salvar el gráfico activa la siguiente línea, y vuelve a correr la celda\n",
    "#fig.savefig('../salidas/Procesos.png',dpi = 600, bbox_inches='tight')\n",
    "\n",
    "plt.show()"
   ]
  },
  {
   "cell_type": "code",
   "execution_count": null,
   "metadata": {},
   "outputs": [],
   "source": []
  },
  {
   "cell_type": "code",
   "execution_count": null,
   "metadata": {},
   "outputs": [],
   "source": []
  },
  {
   "cell_type": "code",
   "execution_count": null,
   "metadata": {},
   "outputs": [],
   "source": []
  },
  {
   "cell_type": "markdown",
   "metadata": {},
   "source": [
    "# Datos provenientes de un análisis de 16S"
   ]
  },
  {
   "cell_type": "code",
   "execution_count": null,
   "metadata": {},
   "outputs": [],
   "source": []
  },
  {
   "cell_type": "markdown",
   "metadata": {},
   "source": [
    "# Filtrar DataFrame"
   ]
  },
  {
   "cell_type": "code",
   "execution_count": null,
   "metadata": {},
   "outputs": [],
   "source": [
    "Columnas = [0, 5, 7, 8, 10, 11, 13, 14, 16, 17, 19, 20, 22, 23, 25]\n",
    "Nombres = ['Entry', 'Kingdom', 'K_Score', 'Phylum', 'P_Score', 'Class', 'C_Score',\n",
    "'Order', 'O_Score', 'Family', 'F_Score', 'Genus', 'G_Score', 'Species', 'S_Score']\n",
    "column_scores = ['K_Score', 'P_Score', 'C_Score', 'O_Score', 'F_Score', 'G_Score', 'S_Score']\n",
    "category_names = ['Kingdom', 'Phylum', 'Class', 'Order', 'Family', 'Genus', 'Species','Entry']"
   ]
  },
  {
   "cell_type": "code",
   "execution_count": null,
   "metadata": {},
   "outputs": [],
   "source": [
    "url3 = 'https://raw.githubusercontent.com/bioinfo01123/taller2022/main/ASV_vs_RDP_classif.txt'"
   ]
  },
  {
   "cell_type": "code",
   "execution_count": null,
   "metadata": {},
   "outputs": [],
   "source": [
    "tax = pd.read_csv(url3, sep='\\t', header =None)"
   ]
  },
  {
   "cell_type": "code",
   "execution_count": null,
   "metadata": {},
   "outputs": [],
   "source": [
    "tax"
   ]
  },
  {
   "cell_type": "code",
   "execution_count": null,
   "metadata": {},
   "outputs": [],
   "source": [
    "tax = tax[Columnas]"
   ]
  },
  {
   "cell_type": "code",
   "execution_count": null,
   "metadata": {},
   "outputs": [],
   "source": [
    "tax.columns=Nombres"
   ]
  },
  {
   "cell_type": "code",
   "execution_count": null,
   "metadata": {},
   "outputs": [],
   "source": [
    "tax"
   ]
  },
  {
   "cell_type": "code",
   "execution_count": null,
   "metadata": {},
   "outputs": [],
   "source": [
    "tax[['Entry']]"
   ]
  },
  {
   "cell_type": "code",
   "execution_count": null,
   "metadata": {},
   "outputs": [],
   "source": [
    "df1 = tax[['Entry', 'Genus','G_Score']]#toma sólo las columnas que se indican entre comillas"
   ]
  },
  {
   "cell_type": "code",
   "execution_count": null,
   "metadata": {},
   "outputs": [],
   "source": [
    "df1"
   ]
  },
  {
   "cell_type": "code",
   "execution_count": null,
   "metadata": {},
   "outputs": [],
   "source": []
  },
  {
   "cell_type": "code",
   "execution_count": null,
   "metadata": {},
   "outputs": [],
   "source": [
    "df1.max()"
   ]
  },
  {
   "cell_type": "code",
   "execution_count": null,
   "metadata": {},
   "outputs": [],
   "source": []
  },
  {
   "cell_type": "code",
   "execution_count": null,
   "metadata": {},
   "outputs": [],
   "source": [
    "df1.min()"
   ]
  },
  {
   "cell_type": "code",
   "execution_count": null,
   "metadata": {},
   "outputs": [],
   "source": []
  },
  {
   "cell_type": "code",
   "execution_count": null,
   "metadata": {},
   "outputs": [],
   "source": [
    "especies = tax['S_Score'] >= 0.7 "
   ]
  },
  {
   "cell_type": "code",
   "execution_count": null,
   "metadata": {},
   "outputs": [],
   "source": [
    "especies"
   ]
  },
  {
   "cell_type": "code",
   "execution_count": null,
   "metadata": {},
   "outputs": [],
   "source": []
  },
  {
   "cell_type": "code",
   "execution_count": null,
   "metadata": {},
   "outputs": [],
   "source": [
    "esp = tax[tax['S_Score'] >= 0.7]"
   ]
  },
  {
   "cell_type": "code",
   "execution_count": null,
   "metadata": {},
   "outputs": [],
   "source": [
    "esp"
   ]
  },
  {
   "cell_type": "code",
   "execution_count": null,
   "metadata": {},
   "outputs": [],
   "source": []
  },
  {
   "cell_type": "code",
   "execution_count": null,
   "metadata": {},
   "outputs": [],
   "source": [
    "url4 = 'https://raw.githubusercontent.com/bioinfo01123/taller2022/main/ASV_counts.txt'"
   ]
  },
  {
   "cell_type": "code",
   "execution_count": null,
   "metadata": {},
   "outputs": [],
   "source": [
    "cuentas = pd.read_csv(url4, sep='\\t')"
   ]
  },
  {
   "cell_type": "code",
   "execution_count": null,
   "metadata": {},
   "outputs": [],
   "source": [
    "cuentas"
   ]
  },
  {
   "cell_type": "code",
   "execution_count": null,
   "metadata": {},
   "outputs": [],
   "source": [
    "df2 = esp.merge(cuentas, on = 'Entry')"
   ]
  },
  {
   "cell_type": "code",
   "execution_count": null,
   "metadata": {},
   "outputs": [],
   "source": []
  },
  {
   "cell_type": "code",
   "execution_count": null,
   "metadata": {},
   "outputs": [],
   "source": [
    "df3 = df2.sort_values(by ='Sample_17',ascending=False).reset_index(drop=True)\n",
    "df3"
   ]
  },
  {
   "cell_type": "code",
   "execution_count": null,
   "metadata": {},
   "outputs": [],
   "source": [
    "df4 = pd.pivot_table(df3, values='Sample_17', index='Species', aggfunc=sum).reset_index()"
   ]
  },
  {
   "cell_type": "code",
   "execution_count": null,
   "metadata": {},
   "outputs": [],
   "source": [
    "df5 = df4.sort_values(by ='Sample_17',ascending=False).reset_index(drop=True)"
   ]
  },
  {
   "cell_type": "code",
   "execution_count": null,
   "metadata": {},
   "outputs": [],
   "source": [
    "top5 = df5.head(5)"
   ]
  },
  {
   "cell_type": "code",
   "execution_count": null,
   "metadata": {},
   "outputs": [],
   "source": []
  },
  {
   "cell_type": "code",
   "execution_count": null,
   "metadata": {},
   "outputs": [],
   "source": [
    "top5"
   ]
  },
  {
   "cell_type": "code",
   "execution_count": null,
   "metadata": {},
   "outputs": [],
   "source": []
  },
  {
   "cell_type": "code",
   "execution_count": null,
   "metadata": {},
   "outputs": [],
   "source": [
    "plt.gca().set_title(\"Especies\", fontsize=30)\n",
    "top5.Sample_17.plot.pie(label = '', cmap='Pastel1',figsize = (7,7), \n",
    "                        title =\"\", fontsize = 12,autopct='%1.2f%%', \n",
    "                        shadow = False,\n",
    "                        wedgeprops   = { 'linewidth' : 2,'edgecolor' : \"silver\" })\n",
    "circle = plt.Circle( (0,0), 0.7, color='white')\n",
    "p=plt.gcf()\n",
    "p.gca().add_artist(circle)\n",
    "plt.show()"
   ]
  },
  {
   "cell_type": "code",
   "execution_count": null,
   "metadata": {},
   "outputs": [],
   "source": []
  },
  {
   "cell_type": "code",
   "execution_count": null,
   "metadata": {},
   "outputs": [],
   "source": []
  },
  {
   "cell_type": "code",
   "execution_count": null,
   "metadata": {},
   "outputs": [],
   "source": []
  },
  {
   "cell_type": "code",
   "execution_count": null,
   "metadata": {},
   "outputs": [],
   "source": [
    "import matplotlib as mpl\n",
    "from matplotlib import cm\n",
    "import numpy as np"
   ]
  },
  {
   "cell_type": "code",
   "execution_count": null,
   "metadata": {},
   "outputs": [],
   "source": [
    "colores = {'tab20' : [mpl.colors.to_hex(i) for i in cm.tab20(np.arange(20)/20.)],\n",
    "          'tab10' : [mpl.colors.to_hex(i) for i in cm.tab10(np.arange(10)/10.)],\n",
    "          'tab20b' : [mpl.colors.to_hex(i) for i in cm.tab20b(np.arange(20)/20.)],\n",
    "          'tab20c' : [mpl.colors.to_hex(i) for i in cm.tab20c(np.arange(20)/20.)],\n",
    "          'Set3' : [mpl.colors.to_hex(i) for i in cm.Set3(np.arange(12)/12.)],\n",
    "          'Set2' : [mpl.colors.to_hex(i) for i in cm.Set2(np.arange(8)/8.)],\n",
    "          'Set1' : [mpl.colors.to_hex(i) for i in cm.Set1(np.arange(9)/9.)],\n",
    "          'Pastel2' : [mpl.colors.to_hex(i) for i in cm.Pastel2(np.arange(8)/8.)],\n",
    "          'Pastel1' : [mpl.colors.to_hex(i) for i in cm.Pastel1(np.arange(9)/9.)],\n",
    "          'Dark2' : [mpl.colors.to_hex(i) for i in cm.Dark2(np.arange(8)/8.)],\n",
    "          'Paired' : [mpl.colors.to_hex(i) for i in cm.Paired(np.arange(12)/12.)],\n",
    "          'Accent' : [mpl.colors.to_hex(i) for i in cm.Accent(np.arange(8)/8.)],\n",
    "          'Spectral' : [mpl.colors.to_hex(i) for i in cm.Spectral(np.arange(11)/11.)]}"
   ]
  },
  {
   "cell_type": "code",
   "execution_count": null,
   "metadata": {},
   "outputs": [],
   "source": [
    "colores['tab20']"
   ]
  },
  {
   "cell_type": "code",
   "execution_count": null,
   "metadata": {},
   "outputs": [],
   "source": [
    "df2.columns"
   ]
  },
  {
   "cell_type": "code",
   "execution_count": null,
   "metadata": {},
   "outputs": [],
   "source": []
  },
  {
   "cell_type": "code",
   "execution_count": null,
   "metadata": {},
   "outputs": [],
   "source": [
    "T = 'Phylum' # nivel taxonómico\n",
    "S = 'Sample_15' # elegir la muestra\n",
    "U = 10 # elegir el número  de filas"
   ]
  },
  {
   "cell_type": "code",
   "execution_count": null,
   "metadata": {},
   "outputs": [],
   "source": []
  },
  {
   "cell_type": "code",
   "execution_count": null,
   "metadata": {},
   "outputs": [],
   "source": [
    "df3 = df2.sort_values(by =S,ascending=False).reset_index(drop=True)\n",
    "df44 = pd.pivot_table(df3, values=S, index=T, aggfunc=sum).reset_index()\n",
    "df55 = df44.sort_values(by =S,ascending=False).reset_index(drop=True)\n",
    "df55 = df55[df55[S] > 0]\n",
    "top55 = df55.head(U)\n",
    "top55 = top55.set_index(T)\n",
    "porc = [str(i)+' %' for i in list(np.round(np.array(top55[S].tolist()) / np.sum(top55[S].tolist()) * 100, 2))]\n",
    "labels = top55.index.tolist()"
   ]
  },
  {
   "cell_type": "code",
   "execution_count": null,
   "metadata": {},
   "outputs": [],
   "source": []
  },
  {
   "cell_type": "code",
   "execution_count": null,
   "metadata": {},
   "outputs": [],
   "source": [
    "print(T, S, U)\n",
    "labels = top55.index.tolist()\n",
    "sizes = top55[S].tolist()\n",
    "\n",
    "fig = plt.figure(figsize=(5, 5))\n",
    "ax = fig.add_axes([0, 0, 1, 1])\n",
    "\n",
    "#ax.set_title('Biodiversidad', fontsize=20)\n",
    "\n",
    "ax.pie(sizes, colors = colores['tab20'], shadow=False, startangle=0,\n",
    "       textprops={'fontsize': 14})\n",
    "\n",
    "centre_circle = plt.Circle((0,0),0.7,fc='white')\n",
    "figg = plt.gcf()\n",
    "figg.gca().add_artist(centre_circle)\n",
    "\n",
    "plt.legend([a+' ('+b+')' for a, b in zip(labels, porc)], title=T,\n",
    "           title_fontsize = 23, loc=(0.98, 0.2), shadow=False, fontsize= 14,\n",
    "          borderpad = 0, edgecolor=\"white\", columnspacing = 1)\n",
    "\n",
    "plt.show()"
   ]
  },
  {
   "cell_type": "markdown",
   "metadata": {},
   "source": [
    "<img style=\"float:center;\" src=\"https://matplotlib.org/stable/_images/sphx_glr_colormaps_006.png\" width = 50%>"
   ]
  },
  {
   "cell_type": "code",
   "execution_count": null,
   "metadata": {},
   "outputs": [],
   "source": []
  },
  {
   "cell_type": "code",
   "execution_count": null,
   "metadata": {},
   "outputs": [],
   "source": [
    "len(['Class', 'Order', 'Family', 'Genus']) * len([i for i in df2.columns if 'Sample' in i][:5])"
   ]
  },
  {
   "cell_type": "code",
   "execution_count": null,
   "metadata": {},
   "outputs": [],
   "source": []
  },
  {
   "cell_type": "code",
   "execution_count": null,
   "metadata": {},
   "outputs": [],
   "source": [
    "for nivel in ['Class', 'Order', 'Family', 'Genus']:\n",
    "    print(nivel)\n",
    "    for muestra in [i for i in df2.columns if 'Sample' in i]:\n",
    "        print(muestra)\n",
    "        T = nivel # nivel taxonómico\n",
    "        S = muestra # elegir la muestra\n",
    "        U = 10 # elegir el número  de filas\n",
    "        df3 = df2.sort_values(by =S,ascending=False).reset_index(drop=True)\n",
    "        df44 = pd.pivot_table(df3, values=S, index=T, aggfunc=sum).reset_index()\n",
    "        df55 = df44.sort_values(by =S,ascending=False).reset_index(drop=True)\n",
    "        df55 = df55[df55[S] > 0]\n",
    "        top55 = df55.head(U)\n",
    "        top55 = top55.set_index(T)\n",
    "        porc = [str(i)+' %' for i in list(np.round(np.array(top55[S].tolist()) / np.sum(top55[S].tolist()) * 100, 2))]\n",
    "        labels = top55.index.tolist()\n",
    "        \n",
    "        labels = top55.index.tolist()\n",
    "        sizes = top55[S].tolist()\n",
    "\n",
    "        fig = plt.figure(figsize=(5, 5))\n",
    "        ax = fig.add_axes([0, 0, 1, 1])\n",
    "\n",
    "        #ax.set_title('Biodiversidad', fontsize=20)\n",
    "\n",
    "        ax.pie(sizes, colors = colores['tab20'], shadow=False, startangle=0,\n",
    "               textprops={'fontsize': 14})\n",
    "\n",
    "        centre_circle = plt.Circle((0,0),0.7,fc='white')\n",
    "        figg = plt.gcf()\n",
    "        figg.gca().add_artist(centre_circle)\n",
    "\n",
    "        plt.legend([a+' ('+b+')' for a, b in zip(labels, porc)], title=T,\n",
    "                   title_fontsize = 23, loc=(0.98, 0.2), shadow=False, fontsize= 14,\n",
    "                  borderpad = 0, edgecolor=\"white\", columnspacing = 1)\n",
    "\n",
    "        plt.show()"
   ]
  },
  {
   "cell_type": "code",
   "execution_count": null,
   "metadata": {},
   "outputs": [],
   "source": []
  },
  {
   "cell_type": "code",
   "execution_count": null,
   "metadata": {},
   "outputs": [],
   "source": []
  },
  {
   "cell_type": "code",
   "execution_count": null,
   "metadata": {},
   "outputs": [],
   "source": [
    "umbral = 0.05\n",
    "for nivel in ['Class', 'Order', 'Family', 'Genus']:\n",
    "    print(nivel)\n",
    "    for muestra in [i for i in df2.columns if 'Sample' in i]:\n",
    "        print(muestra)\n",
    "        T = nivel # nivel taxonómico\n",
    "        S = muestra # elegir la muestra\n",
    "        U = 10 # elegir el número  de filas\n",
    "        df3 = df2.sort_values(by =S,ascending=False).reset_index(drop=True)\n",
    "        df44 = pd.pivot_table(df3, values=S, index=T, aggfunc=sum).reset_index()\n",
    "        df55 = df44.sort_values(by =S,ascending=False).reset_index(drop=True)\n",
    "        df55 = df55[df55[S] > 0]\n",
    "        top55 = df55.head(U)\n",
    "        top55 = top55.set_index(T)\n",
    "        \n",
    "        porc = [str(i)+' %' for i in list(np.round(np.array(top55[S].tolist()) / np.sum(top55[S].tolist()) * 100, 2))]\n",
    "        \n",
    "        #-------------------------------------------\n",
    "        \n",
    "        porc2 = [i for i in list(np.round(np.array(top55[S].tolist()) / np.sum(top55[S].tolist()) * 100, 2))]\n",
    "        top55['per'] = porc2\n",
    "        top55 = top55[top55['per'] >= umbral]\n",
    "        \n",
    "        #-------------------------------------------\n",
    "        \n",
    "        labels = top55.index.tolist()\n",
    "        \n",
    "        labels = top55.index.tolist()\n",
    "        sizes = top55[S].tolist()\n",
    "\n",
    "        fig = plt.figure(figsize=(5, 5))\n",
    "        ax = fig.add_axes([0, 0, 1, 1])\n",
    "\n",
    "        #ax.set_title('Biodiversidad', fontsize=20)\n",
    "\n",
    "        ax.pie(sizes, colors = colores['tab20'], shadow=False, startangle=0,\n",
    "               textprops={'fontsize': 14})\n",
    "\n",
    "        centre_circle = plt.Circle((0,0),0.7,fc='white')\n",
    "        figg = plt.gcf()\n",
    "        figg.gca().add_artist(centre_circle)\n",
    "\n",
    "        plt.legend([a+' ('+b+')' for a, b in zip(labels, porc)], title=T,\n",
    "                   title_fontsize = 23, loc=(0.98, 0.2), shadow=False, fontsize= 14,\n",
    "                  borderpad = 0, edgecolor=\"white\", columnspacing = 1)\n",
    "\n",
    "        plt.show()"
   ]
  },
  {
   "cell_type": "code",
   "execution_count": null,
   "metadata": {},
   "outputs": [],
   "source": []
  },
  {
   "cell_type": "code",
   "execution_count": null,
   "metadata": {},
   "outputs": [],
   "source": [
    "from IPython.core.display import display, HTML, Javascript\n",
    "display(HTML(\"<style>.container { width:90% !important; }</style>\"))"
   ]
  },
  {
   "cell_type": "code",
   "execution_count": null,
   "metadata": {},
   "outputs": [],
   "source": [
    "df2"
   ]
  },
  {
   "cell_type": "code",
   "execution_count": null,
   "metadata": {
    "scrolled": true
   },
   "outputs": [],
   "source": [
    "df2.columns"
   ]
  },
  {
   "cell_type": "code",
   "execution_count": null,
   "metadata": {},
   "outputs": [],
   "source": []
  },
  {
   "cell_type": "code",
   "execution_count": null,
   "metadata": {},
   "outputs": [],
   "source": [
    "name_sample = [i for i in df2.columns if 'Sample' in i]\n",
    "name_sample"
   ]
  },
  {
   "cell_type": "code",
   "execution_count": null,
   "metadata": {},
   "outputs": [],
   "source": []
  },
  {
   "cell_type": "code",
   "execution_count": null,
   "metadata": {},
   "outputs": [],
   "source": [
    "nivel = 'Genus'"
   ]
  },
  {
   "cell_type": "code",
   "execution_count": null,
   "metadata": {},
   "outputs": [],
   "source": []
  },
  {
   "cell_type": "code",
   "execution_count": null,
   "metadata": {},
   "outputs": [],
   "source": [
    "data_pivot = pd.pivot_table(df2[[nivel] + name_sample], values = name_sample, index = [nivel], aggfunc = sum).reset_index()"
   ]
  },
  {
   "cell_type": "code",
   "execution_count": null,
   "metadata": {},
   "outputs": [],
   "source": [
    "data_pivot"
   ]
  },
  {
   "cell_type": "code",
   "execution_count": null,
   "metadata": {},
   "outputs": [],
   "source": []
  },
  {
   "cell_type": "code",
   "execution_count": null,
   "metadata": {},
   "outputs": [],
   "source": [
    "porcentaje = data_pivot[name_sample].values/data_pivot[name_sample].values.sum(axis=0)*100\n",
    "porcentaje"
   ]
  },
  {
   "cell_type": "code",
   "execution_count": null,
   "metadata": {},
   "outputs": [],
   "source": []
  },
  {
   "cell_type": "code",
   "execution_count": null,
   "metadata": {},
   "outputs": [],
   "source": [
    "abundancia_relativa = DataFrame(porcentaje, columns = name_sample)\n",
    "abundancia_relativa"
   ]
  },
  {
   "cell_type": "code",
   "execution_count": null,
   "metadata": {},
   "outputs": [],
   "source": [
    "data_pivot[nivel]"
   ]
  },
  {
   "cell_type": "code",
   "execution_count": null,
   "metadata": {},
   "outputs": [],
   "source": [
    "abundancia_relativa.insert(loc = 0, column=nivel, value=data_pivot[nivel])"
   ]
  },
  {
   "cell_type": "code",
   "execution_count": null,
   "metadata": {},
   "outputs": [],
   "source": [
    "abundancia_relativa"
   ]
  },
  {
   "cell_type": "code",
   "execution_count": null,
   "metadata": {},
   "outputs": [],
   "source": [
    "len(name_sample)"
   ]
  },
  {
   "cell_type": "code",
   "execution_count": null,
   "metadata": {},
   "outputs": [],
   "source": []
  },
  {
   "cell_type": "code",
   "execution_count": null,
   "metadata": {},
   "outputs": [],
   "source": [
    "PorcentajE = 3"
   ]
  },
  {
   "cell_type": "code",
   "execution_count": null,
   "metadata": {},
   "outputs": [],
   "source": [
    "from functools import reduce"
   ]
  },
  {
   "cell_type": "code",
   "execution_count": null,
   "metadata": {},
   "outputs": [],
   "source": [
    "abundancias = []\n",
    "for i in name_sample:\n",
    "    df = abundancia_relativa[[nivel, i]]\n",
    "    if PorcentajE == 0:\n",
    "        df = df[df[i] > PorcentajE]\n",
    "        ff = df\n",
    "    else:\n",
    "        df = df[df[i] >= PorcentajE]\n",
    "        ef = DataFrame({nivel:['Others'], i:[100 - df[i].sum()]})\n",
    "        ff = pd.concat([df, ef])\n",
    "    abundancias.append(ff)\n",
    "AbundanciA = reduce(lambda  left,right: pd.merge(left, right, on = [nivel], how = 'outer'), abundancias).fillna(0)"
   ]
  },
  {
   "cell_type": "code",
   "execution_count": null,
   "metadata": {},
   "outputs": [],
   "source": []
  },
  {
   "cell_type": "code",
   "execution_count": null,
   "metadata": {},
   "outputs": [],
   "source": [
    "AbundanciA"
   ]
  },
  {
   "cell_type": "code",
   "execution_count": null,
   "metadata": {},
   "outputs": [],
   "source": []
  },
  {
   "cell_type": "code",
   "execution_count": null,
   "metadata": {},
   "outputs": [],
   "source": [
    "AbundanciA = AbundanciA[AbundanciA[nivel].str.contains('Others') == False]\n",
    "AbundanciA"
   ]
  },
  {
   "cell_type": "code",
   "execution_count": null,
   "metadata": {},
   "outputs": [],
   "source": []
  },
  {
   "cell_type": "code",
   "execution_count": null,
   "metadata": {},
   "outputs": [],
   "source": [
    "org = AbundanciA[nivel].tolist()\n",
    "org"
   ]
  },
  {
   "cell_type": "code",
   "execution_count": null,
   "metadata": {},
   "outputs": [],
   "source": [
    "AbundanciA = AbundanciA.T\n",
    "AbundanciA = AbundanciA.drop(AbundanciA.index[[0]])\n",
    "AbundanciA"
   ]
  },
  {
   "cell_type": "code",
   "execution_count": null,
   "metadata": {},
   "outputs": [],
   "source": [
    "AbundanciA.columns = org"
   ]
  },
  {
   "cell_type": "code",
   "execution_count": null,
   "metadata": {},
   "outputs": [],
   "source": [
    "AbundanciA.insert(0, 'Sample', AbundanciA.index.tolist())"
   ]
  },
  {
   "cell_type": "code",
   "execution_count": null,
   "metadata": {},
   "outputs": [],
   "source": []
  },
  {
   "cell_type": "code",
   "execution_count": null,
   "metadata": {},
   "outputs": [],
   "source": [
    "# plot data in stack manner of bar type\n",
    "AbundanciA.plot(x='Sample', kind='bar', stacked=True, figsize=(15,6), rot=90, fontsize=12, width=0.9, cmap = 'tab20')\n",
    "\n",
    "plt.legend(AbundanciA.columns.tolist()[1:], title= nivel, ncol= 1,\n",
    "           title_fontsize = 15, loc=(1.02, 0.2), shadow=False, fontsize= 10,\n",
    "          borderpad = 0, edgecolor=\"white\", columnspacing = 1)\n",
    "\n",
    "plt.gca().set_title('Abundancia relativa (%)', fontsize=15)\n",
    "\n",
    "plt.show()"
   ]
  },
  {
   "cell_type": "code",
   "execution_count": null,
   "metadata": {},
   "outputs": [],
   "source": []
  },
  {
   "cell_type": "code",
   "execution_count": null,
   "metadata": {},
   "outputs": [],
   "source": [
    "PorcentajE = 1\n",
    "quitar_otros = 'n'\n",
    "\n",
    "\n",
    "\n",
    "for nivel in ['Phylum', 'Class', 'Order', 'Family', 'Genus', 'Species']:\n",
    "    \n",
    "    data_pivot = pd.pivot_table(df2[[nivel] + name_sample], values = name_sample, index = [nivel], aggfunc = sum).reset_index()\n",
    "    porcentaje = data_pivot[name_sample].values/data_pivot[name_sample].values.sum(axis=0)*100\n",
    "    abundancia_relativa = DataFrame(porcentaje, columns = name_sample)\n",
    "    abundancia_relativa.insert(loc = 0, column=nivel, value=data_pivot[nivel])\n",
    "    \n",
    "\n",
    "    abundancias = []\n",
    "    for i in name_sample:\n",
    "        df = abundancia_relativa[[nivel, i]]\n",
    "        if PorcentajE == 0:\n",
    "            df = df[df[i] > PorcentajE]\n",
    "            ff = df\n",
    "        else:\n",
    "            df = df[df[i] >= PorcentajE]\n",
    "            ef = DataFrame({nivel:['Others'], i:[100 - df[i].sum()]})\n",
    "            ff = pd.concat([df, ef])\n",
    "        abundancias.append(ff)\n",
    "    AbundanciA = reduce(lambda  left,right: pd.merge(left, right, on = [nivel], how = 'outer'), abundancias).fillna(0)\n",
    "    \n",
    "    if quitar_otros == 'y':\n",
    "        AbundanciA = AbundanciA[AbundanciA[nivel].str.contains('Others') == False]\n",
    "    if quitar_otros == 'n':\n",
    "        pass\n",
    "    \n",
    "    \n",
    "    org = AbundanciA[nivel].tolist()\n",
    "\n",
    "    AbundanciA = AbundanciA.T\n",
    "    AbundanciA = AbundanciA.drop(AbundanciA.index[[0]])\n",
    "\n",
    "\n",
    "    AbundanciA.columns = org\n",
    "    AbundanciA.insert(0, 'Sample', AbundanciA.index.tolist())\n",
    "\n",
    "    # plot data in stack manner of bar type\n",
    "    AbundanciA.plot(x='Sample', kind='bar', stacked=True, figsize=(15,6), rot=90, fontsize=12, width=0.9, cmap = 'tab20')\n",
    "    \n",
    "    \n",
    "    if len(org) <= 10:\n",
    "        NCOL = 1\n",
    "    if 10 < len(org) < 15:\n",
    "        NCOL = 2\n",
    "    if 15 < len(org) < 20:\n",
    "        NCOL = 3\n",
    "    if 20 < len(org) < 25:\n",
    "        NCOL = 4\n",
    "    \n",
    "    plt.legend(AbundanciA.columns.tolist()[1:], title= nivel, ncol= NCOL,\n",
    "               title_fontsize = 15, loc=(1.02, 0.2), shadow=False, fontsize= 10,\n",
    "              borderpad = 0, edgecolor=\"white\", columnspacing = 1)\n",
    "\n",
    "    plt.gca().set_title('Abundancia relativa (%)', fontsize=15)\n",
    "\n",
    "    plt.show()"
   ]
  },
  {
   "cell_type": "code",
   "execution_count": null,
   "metadata": {},
   "outputs": [],
   "source": []
  }
 ],
 "metadata": {
  "kernelspec": {
   "display_name": "Python 3",
   "language": "python",
   "name": "python3"
  },
  "language_info": {
   "codemirror_mode": {
    "name": "ipython",
    "version": 3
   },
   "file_extension": ".py",
   "mimetype": "text/x-python",
   "name": "python",
   "nbconvert_exporter": "python",
   "pygments_lexer": "ipython3",
   "version": "3.6.7"
  }
 },
 "nbformat": 4,
 "nbformat_minor": 4
}
